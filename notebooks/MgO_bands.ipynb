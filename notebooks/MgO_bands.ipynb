{
 "cells": [
  {
   "cell_type": "code",
   "execution_count": 1,
   "metadata": {
    "autoscroll": "json-false",
    "ein.tags": [
     "worksheet-0"
    ],
    "slideshow": {
     "slide_type": "-"
    }
   },
   "outputs": [
    {
     "data": {
      "application/json": {
       "current_state": "Loaded AiiDA DB environment."
      },
      "text/html": [
       "<p>Loaded AiiDA DB environment.</p>"
      ],
      "text/latex": [
       "Loaded AiiDA DB environment.\n"
      ],
      "text/plain": [
       "Loaded AiiDA DB environment.\n"
      ]
     },
     "execution_count": 1,
     "metadata": {},
     "output_type": "execute_result"
    }
   ],
   "source": [
    "%aiida"
   ]
  },
  {
   "cell_type": "code",
   "execution_count": 2,
   "metadata": {
    "autoscroll": "json-false",
    "ein.tags": [
     "worksheet-0"
    ],
    "slideshow": {
     "slide_type": "-"
    }
   },
   "outputs": [],
   "source": [
    "import os\n",
    "import numpy as np\n",
    "\n",
    "from ipywidgets import interact"
   ]
  },
  {
   "cell_type": "code",
   "execution_count": 3,
   "metadata": {},
   "outputs": [],
   "source": [
    "from aiida.orm import Code, DataFactory, CalculationFactory\n",
    "from aiida.orm.data.base import Float, Str\n",
    "\n",
    "SiestaCalculation = CalculationFactory('siesta.siesta')\n",
    "PsfData = DataFactory('siesta.psf')\n",
    "StructureData = DataFactory('structure')\n",
    "ParameterData = DataFactory('parameter')\n",
    "KpointsData = DataFactory('array.kpoints')"
   ]
  },
  {
   "cell_type": "code",
   "execution_count": 4,
   "metadata": {
    "autoscroll": "json-false",
    "ein.tags": [
     "worksheet-0"
    ],
    "slideshow": {
     "slide_type": "-"
    }
   },
   "outputs": [
    {
     "data": {
      "application/vnd.jupyter.widget-view+json": {
       "model_id": "186a33a22bc74e1bb8ab539ac8264533",
       "version_major": 2,
       "version_minor": 0
      },
      "text/html": [
       "<p>Failed to display Jupyter Widget of type <code>interactive</code>.</p>\n",
       "<p>\n",
       "  If you're reading this message in Jupyter Notebook or JupyterLab, it may mean\n",
       "  that the widgets JavaScript is still loading. If this message persists, it\n",
       "  likely means that the widgets JavaScript library is either not installed or\n",
       "  not enabled. See the <a href=\"https://ipywidgets.readthedocs.io/en/stable/user_install.html\">Jupyter\n",
       "  Widgets Documentation</a> for setup instructions.\n",
       "</p>\n",
       "<p>\n",
       "  If you're reading this message in another notebook frontend (for example, a static\n",
       "  rendering on GitHub or <a href=\"https://nbviewer.jupyter.org/\">NBViewer</a>),\n",
       "  it may mean that your frontend doesn't currently support widgets.\n",
       "</p>\n"
      ],
      "text/plain": [
       "interactive(children=(Dropdown(description=u'codename', options=(u'siesta-m',), value=u'siesta-m'), Output()), _dom_classes=('widget-interact',))"
      ]
     },
     "metadata": {},
     "output_type": "display_data"
    }
   ],
   "source": [
    "code = None\n",
    "def select_code(codename):\n",
    "    global code\n",
    "    code = Code.get_from_string(codename)\n",
    "\n",
    "code_choice = interact(select_code, \n",
    "                       codename=Code.list_for_plugin('siesta.siesta'))"
   ]
  },
  {
   "cell_type": "code",
   "execution_count": 5,
   "metadata": {
    "autoscroll": "json-false",
    "ein.tags": [
     "worksheet-0"
    ],
    "slideshow": {
     "slide_type": "-"
    }
   },
   "outputs": [],
   "source": [
    "filter_elements=(\"Mg\", \"O\")"
   ]
  },
  {
   "cell_type": "code",
   "execution_count": 6,
   "metadata": {
    "autoscroll": "json-false",
    "ein.tags": [
     "worksheet-0"
    ],
    "slideshow": {
     "slide_type": "-"
    }
   },
   "outputs": [
    {
     "data": {
      "application/vnd.jupyter.widget-view+json": {
       "model_id": "a8eca20708424893a68760258c126688",
       "version_major": 2,
       "version_minor": 0
      },
      "text/html": [
       "<p>Failed to display Jupyter Widget of type <code>interactive</code>.</p>\n",
       "<p>\n",
       "  If you're reading this message in Jupyter Notebook or JupyterLab, it may mean\n",
       "  that the widgets JavaScript is still loading. If this message persists, it\n",
       "  likely means that the widgets JavaScript library is either not installed or\n",
       "  not enabled. See the <a href=\"https://ipywidgets.readthedocs.io/en/stable/user_install.html\">Jupyter\n",
       "  Widgets Documentation</a> for setup instructions.\n",
       "</p>\n",
       "<p>\n",
       "  If you're reading this message in another notebook frontend (for example, a static\n",
       "  rendering on GitHub or <a href=\"https://nbviewer.jupyter.org/\">NBViewer</a>),\n",
       "  it may mean that your frontend doesn't currently support widgets.\n",
       "</p>\n"
      ],
      "text/plain": [
       "interactive(children=(Dropdown(description=u'family', options=(<Group: \"another_family\" [type data.psf.family], of user vladimir.dikan@icn2.cat>, <Group: \"example_family\" [type data.psf.family], of user vladimir.dikan@icn2.cat>), value=<Group: \"another_family\" [type data.psf.family], of user vladimir.dikan@icn2.cat>), Output()), _dom_classes=('widget-interact',))"
      ]
     },
     "metadata": {},
     "output_type": "display_data"
    }
   ],
   "source": [
    "pseudo_family = None\n",
    "def select_pseudo_family(family):\n",
    "    global pseudo_family\n",
    "    pseudo_family = family\n",
    "    \n",
    "pseudo_family_choice = interact(select_pseudo_family,\n",
    "                                family=PsfData.get_psf_groups(filter_elements=filter_elements))"
   ]
  },
  {
   "cell_type": "code",
   "execution_count": 7,
   "metadata": {},
   "outputs": [],
   "source": [
    "inputs = SiestaCalculation.process().get_inputs_template()\n",
    "inputs.code = code\n",
    "inputs._options.resources = {\n",
    "    \"num_machines\": 1,\n",
    "    \"num_mpiprocs_per_machine\": 1,\n",
    "}\n",
    "inputs._options.max_wallclock_seconds = 30 * 60"
   ]
  },
  {
   "cell_type": "code",
   "execution_count": 8,
   "metadata": {
    "autoscroll": "json-false",
    "ein.tags": [
     "worksheet-0"
    ],
    "slideshow": {
     "slide_type": "-"
    }
   },
   "outputs": [],
   "source": [
    "def create_FCC_structure(alat):\n",
    "    lvecs = np.array([ 1.0,\n",
    "                       1.0,\n",
    "                       1.0,]) * alat\n",
    "                   \n",
    "    cell = np.array([[0.0, 0.5, 0.5,],\n",
    "                     [0.5, 0.0, 0.5,],\n",
    "                     [0.5, 0.5, 0.0,],])\n",
    "\n",
    "    return np.multiply(cell, lvecs)"
   ]
  },
  {
   "cell_type": "code",
   "execution_count": 9,
   "metadata": {
    "autoscroll": "json-false",
    "ein.tags": [
     "worksheet-0"
    ],
    "slideshow": {
     "slide_type": "-"
    }
   },
   "outputs": [],
   "source": [
    "# Define MgO structure\n",
    "alat = 4.117  # MgO lattice constant, Angstroms\n",
    "cell = create_FCC_structure(alat)    # Creating MgO FCC-cell\n",
    "structure = StructureData(cell=cell)  # Creating structure from cell \n",
    "# Placing basis atoms\n",
    "structure.append_atom(\n",
    "    position=(0.000 * alat, 0.000 * alat, 0.000 * alat),\n",
    "    symbols=['Mg'])\n",
    "structure.append_atom(\n",
    "    position=(0.500 * alat, 0.500 * alat, 0.500 * alat),\n",
    "    symbols=['O'])                    \n",
    "\n",
    "inputs.structure = structure"
   ]
  },
  {
   "cell_type": "code",
   "execution_count": 10,
   "metadata": {},
   "outputs": [],
   "source": [
    "# Pseudopotentials\n",
    "from aiida_siesta.data.psf import get_pseudos_from_structure\n",
    "\n",
    "inputs.pseudo = get_pseudos_from_structure(structure, pseudo_family.name)"
   ]
  },
  {
   "cell_type": "code",
   "execution_count": 11,
   "metadata": {
    "autoscroll": "json-false",
    "ein.tags": [
     "worksheet-0"
    ],
    "slideshow": {
     "slide_type": "-"
    }
   },
   "outputs": [],
   "source": [
    "# K-points mesh\n",
    "kpoints_mesh = KpointsData()\n",
    "kpoints_mesh.set_kpoints_mesh([6, 6, 6], [0.5, 0.5, 0.5])\n",
    "\n",
    "inputs.kpoints = kpoints_mesh"
   ]
  },
  {
   "cell_type": "code",
   "execution_count": 12,
   "metadata": {
    "autoscroll": "json-false",
    "ein.tags": [
     "worksheet-0"
    ],
    "slideshow": {
     "slide_type": "-"
    }
   },
   "outputs": [],
   "source": [
    "# Bands' k-points\n",
    "bandskpoints = KpointsData()\n",
    "bandskpoints.set_cell(structure.cell, structure.pbc)\n",
    "bandskpoints.set_kpoints_path([\n",
    "    ('K', 'G', 39),\n",
    "    ('G', 'X', 37),\n",
    "    ('X', 'W', 19),\n",
    "    ('W', 'L', 27),\n",
    "    ('L', 'G', 32),\n",
    "])\n",
    "\n",
    "inputs.bandskpoints = bandskpoints"
   ]
  },
  {
   "cell_type": "code",
   "execution_count": 13,
   "metadata": {
    "autoscroll": "json-false",
    "ein.tags": [
     "worksheet-0"
    ],
    "slideshow": {
     "slide_type": "-"
    }
   },
   "outputs": [],
   "source": [
    "# Calculation parameters\n",
    "parameters  = ParameterData(dict={\n",
    "    'xc-functional': 'LDA',\n",
    "    'xc-authors': 'CA',\n",
    "    'spin-polarized': False,\n",
    "    'meshcutoff': '200 Ry',\n",
    "    'max-scfiterations': 50,\n",
    "})\n",
    "\n",
    "inputs.parameters = parameters"
   ]
  },
  {
   "cell_type": "code",
   "execution_count": 14,
   "metadata": {
    "autoscroll": "json-false",
    "ein.tags": [
     "worksheet-0"
    ],
    "slideshow": {
     "slide_type": "-"
    }
   },
   "outputs": [
    {
     "name": "stdout",
     "output_type": "stream",
     "text": [
      "Shutting down AiiDA Daemon (1359)...\n",
      "Waiting for the AiiDA Daemon to shut down...\n",
      "AiiDA Daemon shut down correctly.\n",
      "Clearing all locks ...\n",
      "Starting AiiDA Daemon ...\n",
      "Daemon started\n"
     ]
    }
   ],
   "source": [
    "! verdi daemon restart"
   ]
  },
  {
   "cell_type": "code",
   "execution_count": 15,
   "metadata": {
    "autoscroll": "json-false",
    "ein.tags": [
     "worksheet-0"
    ],
    "slideshow": {
     "slide_type": "-"
    }
   },
   "outputs": [],
   "source": [
    "# Create and run Siesta calculation process\n",
    "from aiida.work.run import run\n",
    "\n",
    "JobCalc = SiestaCalculation.process()\n",
    "result = run(JobCalc, **inputs)"
   ]
  },
  {
   "cell_type": "code",
   "execution_count": 16,
   "metadata": {},
   "outputs": [],
   "source": [
    "out     = result['output_parameters'].get_dict()\n",
    "bands   = result['bands_array']\n",
    "bparams = result['bands_parameters'].get_dict()"
   ]
  },
  {
   "cell_type": "code",
   "execution_count": 17,
   "metadata": {},
   "outputs": [
    {
     "data": {
      "image/png": "[encoded data removed]",
      "text/plain": [
       "<matplotlib.figure.Figure at 0x7f8b32b8d110>"
      ]
     },
     "metadata": {},
     "output_type": "display_data"
    }
   ],
   "source": [
    "%matplotlib inline\n",
    "import matplotlib.pyplot as plt\n",
    "plt.rcParams['figure.figsize'] = (15.0, 9.0)\n",
    "\n",
    "# Plot bands\n",
    "for band in zip(*bands.get_bands()):\n",
    "    plt.plot(bparams['kp_coordinates'], band,)\n",
    "\n",
    "# Plot E_Fermi\n",
    "plt.plot((bparams['kp_coordinates'][0], bparams['kp_coordinates'][-1]),\n",
    "         (out['E_Fermi'], out['E_Fermi']),\n",
    "         '--r', label=\"Fermi Energy\")   \n",
    "\n",
    "ticks = [(bparams['kp_coordinates'][xt], xl) \n",
    "         for xt, xl in bandskpoints.labels]\n",
    "plt.xticks(zip(*ticks)[0], zip(*ticks)[1])\n",
    "\n",
    "plt.axis([0.0, 3.34, -30.0, 25.0])  # rescale\n",
    "plt.ylabel(\"Energy (eV)\")\n",
    "plt.legend()\n",
    "\n",
    "plt.show()"
   ]
  }
 ],
 "metadata": {
  "kernelspec": {
   "display_name": "Python 2",
   "language": "python",
   "name": "python2"
  },
  "language_info": {
   "codemirror_mode": {
    "name": "ipython",
    "version": 2
   },
   "file_extension": ".py",
   "mimetype": "text/x-python",
   "name": "python",
   "nbconvert_exporter": "python",
   "pygments_lexer": "ipython2",
   "version": "2.7.12+"
  },
  "name": "03_MgO_bands.ipynb"
 },
 "nbformat": 4,
 "nbformat_minor": 2
}
