{
 "cells": [
  {
   "cell_type": "code",
   "execution_count": null,
   "metadata": {},
   "outputs": [],
   "source": [
    "%aiida"
   ]
  },
  {
   "cell_type": "code",
   "execution_count": null,
   "metadata": {},
   "outputs": [],
   "source": [
    "import os\n",
    "import numpy as np\n",
    "\n",
    "from ipywidgets import interact\n",
    "\n",
    "from aiida.orm import Code, DataFactory, CalculationFactory\n",
    "from aiida.orm.data.base import Float, Str\n",
    "\n",
    "from aiida.work.process_registry import ProcessRegistry\n",
    "from aiida.work.run import run\n",
    "\n",
    "SiestaCalculation = CalculationFactory('siesta.siesta')\n",
    "PsfData = DataFactory('siesta.psf')\n",
    "StructureData = DataFactory('structure')\n",
    "ParameterData = DataFactory('parameter')\n",
    "KpointsData = DataFactory('array.kpoints')"
   ]
  },
  {
   "cell_type": "code",
   "execution_count": null,
   "metadata": {},
   "outputs": [],
   "source": [
    "code = None\n",
    "def select_code(codename):\n",
    "    global code\n",
    "    code = Code.get_from_string(codename)\n",
    "\n",
    "code_choice = interact(select_code, \n",
    "                       codename=Code.list_for_plugin('siesta.siesta'))"
   ]
  },
  {
   "cell_type": "code",
   "execution_count": null,
   "metadata": {},
   "outputs": [],
   "source": [
    "filter_elements=(\"Mg\", \"O\")"
   ]
  },
  {
   "cell_type": "code",
   "execution_count": null,
   "metadata": {},
   "outputs": [],
   "source": [
    "pseudo_family = None\n",
    "def select_pseudo_family(family):\n",
    "    global pseudo_family\n",
    "    pseudo_family = family\n",
    "    \n",
    "pseudo_family_choice = interact(select_pseudo_family,\n",
    "                               family=PsfData.get_psf_groups(filter_elements=filter_elements))"
   ]
  },
  {
   "cell_type": "code",
   "execution_count": null,
   "metadata": {},
   "outputs": [],
   "source": [
    "# MgO\n",
    "alat = 4.117\n",
    "cell = np.array([[0.0, 0.5, 0.5,],\n",
    "                 [0.5, 0.0, 0.5,],\n",
    "                 [0.5, 0.5, 0.0,],]) * alat\n",
    "structure = StructureData(cell=cell)\n",
    "structure.append_atom(\n",
    "    position=(0.000 * alat, 0.000 * alat, 0.000 * alat),\n",
    "    symbols=['Mg'])\n",
    "structure.append_atom(\n",
    "    position=(0.500 * alat, 0.500 * alat, 0.500 * alat),\n",
    "    symbols=['O'])"
   ]
  },
  {
   "cell_type": "code",
   "execution_count": null,
   "metadata": {},
   "outputs": [],
   "source": [
    "inputs = SiestaCalculation.process().get_inputs_template()\n",
    "# Attach structure\n",
    "inputs.structure = structure"
   ]
  },
  {
   "cell_type": "code",
   "execution_count": null,
   "metadata": {},
   "outputs": [],
   "source": [
    "# Attach code\n",
    "inputs.code = code\n",
    "inputs._options.resources = {\n",
    "    \"num_machines\": 1,\n",
    "    \"num_mpiprocs_per_machine\": 1,\n",
    "}\n",
    "inputs._options.max_wallclock_seconds = 30 * 60"
   ]
  },
  {
   "cell_type": "code",
   "execution_count": null,
   "metadata": {},
   "outputs": [],
   "source": [
    "kpoints_mesh = KpointsData()\n",
    "kpoints_mesh.set_cell_from_structure(structure)\n",
    "kpoints_mesh.set_kpoints_mesh_from_density(distance=0.15, offset=[0.5, 0.5, 0.5])\n",
    "\n",
    "inputs.kpoints = kpoints_mesh"
   ]
  },
  {
   "cell_type": "code",
   "execution_count": null,
   "metadata": {},
   "outputs": [],
   "source": [
    "bandskpoints = KpointsData()\n",
    "bandskpoints.set_cell(structure.cell, structure.pbc)\n",
    "bandskpoints.set_kpoints_path([\n",
    "    ('K', 'G', 39),\n",
    "    ('G', 'X', 37),\n",
    "    ('X', 'W', 19),\n",
    "    ('W', 'L', 27),\n",
    "    ('L', 'G', 32),\n",
    "])\n",
    "\n",
    "inputs.bandskpoints = bandskpoints"
   ]
  },
  {
   "cell_type": "code",
   "execution_count": null,
   "metadata": {},
   "outputs": [],
   "source": [
    "# Calculation parameters\n",
    "parameters_dict = {\n",
    "    'xc-functional': 'LDA',\n",
    "    'xc-authors': 'CA',\n",
    "    'spin-polarized': False,\n",
    "    'meshcutoff': 200,  # Ry\n",
    "#   'meshcutoff': '200 Ry',\n",
    "    'max-scfiterations': 50,\n",
    "}\n",
    "inputs.parameters = ParameterData(dict=parameters_dict)"
   ]
  },
  {
   "cell_type": "code",
   "execution_count": null,
   "metadata": {},
   "outputs": [],
   "source": [
    "# Basis set\n",
    "#inputs.basis = ParameterData(dict={\n",
    "#    'pao-energy-shift': '300 meV',\n",
    "#    '%block pao-basis-sizes': 'O DZP',\n",
    "#})"
   ]
  },
  {
   "cell_type": "code",
   "execution_count": null,
   "metadata": {},
   "outputs": [],
   "source": [
    "# Pseudopotentials\n",
    "from aiida_siesta.data.psf import get_pseudos_from_structure\n",
    "\n",
    "inputs.pseudo = get_pseudos_from_structure(structure, pseudo_family.name)"
   ]
  },
  {
   "cell_type": "code",
   "execution_count": null,
   "metadata": {},
   "outputs": [],
   "source": [
    "! verdi daemon restart"
   ]
  },
  {
   "cell_type": "code",
   "execution_count": null,
   "metadata": {},
   "outputs": [],
   "source": [
    "JobCalc = SiestaCalculation.process()\n",
    "result = run(JobCalc, **inputs)"
   ]
  },
  {
   "cell_type": "code",
   "execution_count": null,
   "metadata": {},
   "outputs": [],
   "source": [
    "barray = result['bands_array']\n",
    "barray.get_inputs()"
   ]
  },
  {
   "cell_type": "code",
   "execution_count": null,
   "metadata": {},
   "outputs": [],
   "source": [
    "print barray.get_bands()"
   ]
  }
 ],
 "metadata": {
  "kernelspec": {
   "display_name": "Python 2",
   "language": "python",
   "name": "python2"
  },
  "language_info": {
   "codemirror_mode": {
    "name": "ipython",
    "version": 2
   },
   "file_extension": ".py",
   "mimetype": "text/x-python",
   "name": "python",
   "nbconvert_exporter": "python",
   "pygments_lexer": "ipython2",
   "version": "2.7.12+"
  }
 },
 "nbformat": 4,
 "nbformat_minor": 2
}
