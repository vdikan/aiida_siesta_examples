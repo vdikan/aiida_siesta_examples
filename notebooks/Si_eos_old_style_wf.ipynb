{
 "cells": [
  {
   "cell_type": "code",
   "execution_count": null,
   "metadata": {},
   "outputs": [],
   "source": [
    "%aiida"
   ]
  },
  {
   "cell_type": "code",
   "execution_count": null,
   "metadata": {},
   "outputs": [],
   "source": [
    "from ipywidgets import interact\n",
    "from aiida.orm import Code\n"
   ]
  },
  {
   "cell_type": "code",
   "execution_count": null,
   "metadata": {},
   "outputs": [],
   "source": [
    "code = None\n",
    "def select_code(codename):\n",
    "    global code\n",
    "    code = Code.get_from_string(codename)\n",
    "\n",
    "code_choice = interact(select_code, \n",
    "                       codename=Code.list_for_plugin('siesta.siesta'))"
   ]
  },
  {
   "cell_type": "code",
   "execution_count": null,
   "metadata": {},
   "outputs": [],
   "source": [
    "from aiida.orm import DataFactory, CalculationFactory\n",
    "SiestaCalculation = CalculationFactory('siesta.siesta')\n",
    "PsfData = DataFactory('siesta.psf')\n",
    "StructureData = DataFactory('structure')\n",
    "ParameterData = DataFactory('parameter')\n",
    "KpointsData = DataFactory('array.kpoints')\n"
   ]
  },
  {
   "cell_type": "code",
   "execution_count": null,
   "metadata": {},
   "outputs": [],
   "source": [
    "from aiida.orm.data.base import Float, Str\n",
    "import os\n",
    "import numpy as np\n"
   ]
  },
  {
   "cell_type": "code",
   "execution_count": null,
   "metadata": {},
   "outputs": [],
   "source": [
    "from aiida.work.process_registry import ProcessRegistry\n",
    "from aiida.work.run import run\n",
    "from aiida.work.workfunction import workfunction as wf\n"
   ]
  },
  {
   "cell_type": "code",
   "execution_count": null,
   "metadata": {},
   "outputs": [],
   "source": [
    "@wf\n",
    "def create_structure(alat):\n",
    "    \"\"\" Create Si-diamond structure with `alat` lattice parameter (distorted). \"\"\"\n",
    "    cell = np.array([[0.5, 0.5, 0.0,],\n",
    "                     [0.0, 0.5, 0.5,],\n",
    "                     [0.5, 0.0, 0.5,],]) * alat\n",
    "    structure = StructureData(cell=cell)\n",
    "    structure.append_atom(\n",
    "        position=(0.000 * alat, 0.000 * alat, 0.000 * alat),\n",
    "        symbols=['Si'])\n",
    "    structure.append_atom(\n",
    "        position=(0.250 * alat, 0.250 * alat, 0.250 * alat),\n",
    "        symbols=['Si'])\n",
    "\n",
    "    return structure\n"
   ]
  },
  {
   "cell_type": "code",
   "execution_count": null,
   "metadata": {},
   "outputs": [],
   "source": [
    "def geninputs(structure):\n",
    "    inputs = SiestaCalculation.process().get_inputs_template()\n",
    "\n",
    "    # Attach structure\n",
    "    inputs.structure = structure\n",
    "\n",
    "    # Attach code\n",
    "    global code\n",
    "    inputs.code = code\n",
    "    inputs._options.resources = {\n",
    "        \"num_machines\": 1,\n",
    "        \"num_mpiprocs_per_machine\": 1,\n",
    "    }\n",
    "    inputs._options.max_wallclock_seconds = 30 * 60\n",
    "\n",
    "    kpoints = KpointsData()\n",
    "    kpoints_mesh = 4\n",
    "    kpoints.set_kpoints_mesh([kpoints_mesh, kpoints_mesh, kpoints_mesh])\n",
    "    inputs.kpoints = kpoints\n",
    "\n",
    "    # Calculation parameters\n",
    "    parameters_dict = {\n",
    "        'xc-functional': 'LDA',\n",
    "        'xc-authors': 'CA',\n",
    "        'max-scfiterations': 50,\n",
    "        'dm-numberpulay': 4,\n",
    "        'dm-mixingweight': 0.3,\n",
    "        'dm-tolerance': 1.e-3,\n",
    "        'Solution-method': 'diagon',\n",
    "        'electronic-temperature': '25 meV',\n",
    "        'md-typeofrun': 'cg',\n",
    "        'md-numcgsteps': 3,\n",
    "        'md-maxcgdispl': '0.1 Ang',\n",
    "        'md-maxforcetol': '0.04 eV/Ang',\n",
    "        'xml-write': True,\n",
    "    }\n",
    "    inputs.parameters = ParameterData(dict=parameters_dict)\n",
    "\n",
    "    # Pseudopotentials\n",
    "    raw_pseudos = [(\"Si.psf\", 'Si')]\n",
    "    pseudo_dict = {}\n",
    "    for fname, kind in raw_pseudos:\n",
    "        absname = os.path.realpath(\n",
    "            os.path.join(os.getcwd(), 'pseudos', fname))\n",
    "        pseudo, created = PsfData.get_or_create(absname, use_first=True)\n",
    "\n",
    "    if created:\n",
    "        print \"Created the pseudo for {}\".format(kind)\n",
    "    else:\n",
    "        print \"Using the pseudo for {} from DB: {}\".format(kind, pseudo.pk)\n",
    "    # Attach pseudo node to the calculation\n",
    "    pseudo_dict[kind] = pseudo\n",
    "\n",
    "    inputs.pseudo = pseudo_dict\n",
    "\n",
    "    # Basis set\n",
    "    inputs.basis = ParameterData(dict={\n",
    "        'pao-energy-shift': '300 meV',\n",
    "        '%block pao-basis-sizes': 'Si DZP',\n",
    "    })\n",
    "\n",
    "    return inputs"
   ]
  },
  {
   "cell_type": "code",
   "execution_count": null,
   "metadata": {},
   "outputs": [],
   "source": [
    "def get_info(calc_results, structure):\n",
    "    return (structure.get_cell_volume(),\n",
    "            calc_results['output_parameters'].dict.FreeE)"
   ]
  },
  {
   "cell_type": "code",
   "execution_count": null,
   "metadata": {},
   "outputs": [],
   "source": [
    "alat_range = np.arange(5.35, 5.49, 0.02)\n",
    "alat_range"
   ]
  },
  {
   "cell_type": "code",
   "execution_count": null,
   "metadata": {},
   "outputs": [],
   "source": [
    "@wf\n",
    "def run_wf():\n",
    "    print \"Workfunction node identifiers: {}\".format(ProcessRegistry().current_calc_node)\n",
    "    # wcalc_uuid = ProcessRegistry().current_calc_node.uuid\n",
    "    #print \"Workfunction node: {}\".format(wcalc_uuid)\n",
    "    JobCalc = SiestaCalculation.process()\n",
    "    calcs = {}\n",
    "    for alat in alat_range:\n",
    "        structure = create_structure(Float(alat))\n",
    "        inputs = geninputs(structure)\n",
    "        print \"Running a scf for Si with lattice constant {}\".format(alat)\n",
    "        result = run(JobCalc, **inputs)\n",
    "        calcs[str(alat)] = get_info(result, structure)\n",
    "\n",
    "    eos = []\n",
    "    for alat in alat_range:\n",
    "        eos.append(calcs[str(alat)])\n",
    "\n",
    "    retdict = {'result': ParameterData(dict={'eos_data': eos})}\n",
    "\n",
    "    return retdict"
   ]
  },
  {
   "cell_type": "code",
   "execution_count": null,
   "metadata": {},
   "outputs": [],
   "source": [
    "! verdi daemon restart"
   ]
  },
  {
   "cell_type": "code",
   "execution_count": null,
   "metadata": {},
   "outputs": [],
   "source": [
    "res = run_wf()\n",
    "eos_data = res['result'].get_attr('eos_data')\n",
    "\n",
    "eos_data"
   ]
  },
  {
   "cell_type": "code",
   "execution_count": null,
   "metadata": {},
   "outputs": [],
   "source": [
    "from scipy.optimize import curve_fit\n",
    "import matplotlib.pyplot as plt\n",
    "\n",
    "\n",
    "def eos_murnaghan(vol, E0, B0, BP, V0):\n",
    "    \"\"\" Murnaghan equation of state (energy as a function of volume).\n",
    "    From PRB 28,5480 (1983). \"\"\"\n",
    "   \n",
    "    return E0 + B0*vol/BP*(((V0/vol)**BP)/(BP-1)+1) - V0*B0/(BP-1)\n",
    "\n",
    "\n",
    "def fit_murnaghan(volume, energy):\n",
    "    \"\"\" Function that fits the results to a Murnaghan EOS. \"\"\"\n",
    "\n",
    "    # fit a parabola for initial parameter guess\n",
    "    p_coefs = np.polyfit(volume, energy, 2)\n",
    "    # minimum of the parabola dE/dV = 0 ( p_coefs = [c,b,a] )\n",
    "    p_min = - p_coefs[1]/(2.*p_coefs[0])\n",
    "    # warn if min volume not in result range\n",
    "    if (p_min < volume.min() or p_min > volume.max()):\n",
    "        print \"Warning: minimum volume not in range of results\"\n",
    "    # goundstate energy estimation form parabola minimum\n",
    "    E0 = np.polyval(p_coefs, p_min)\n",
    "    # bulk modulus estimation\n",
    "    B0 = 2.*p_coefs[2]*p_min\n",
    "\n",
    "    # initial parameters (BP is usually small)\n",
    "    init_par = [E0, B0, 4, p_min]\n",
    "    best_par, cov_matrix = curve_fit(eos_murnaghan, volume, energy, p0 = init_par)\n",
    "\n",
    "    return best_par"
   ]
  },
  {
   "cell_type": "code",
   "execution_count": null,
   "metadata": {},
   "outputs": [],
   "source": [
    "def fit_and_plot(eos_data):\n",
    "    \"\"\" Function that reads data from a filename and fits a Murnaghan EOS.\n",
    "    The fitted parameters and a plot are returned. \"\"\"\n",
    "    # unpack eos_data\n",
    "    volume, energy = map(np.array, zip(*eos_data))\n",
    "    # fit data to Murnaghan EOS\n",
    "    best_par = fit_murnaghan(volume, energy)\n",
    "    # print optimal paramaters\n",
    "    print \"Fit parameters:\"\n",
    "    print \" V0     =  {:1.4f} A^3 \".format(best_par[3])\n",
    "    print \" E0     =  {:1.4f} eV  \".format(best_par[0])\n",
    "    print \" B(V0)  =  {:1.4f} eV/A^3\".format(best_par[1])\n",
    "    print \" B'(VO) =  {:1.4f} \".format(best_par[2])\n",
    "    # theoretical lattice constant\n",
    "    # Re_FACTOR these:\n",
    "    factor = 1./4.\n",
    "    lattice_const = (best_par[3]/factor)**(1./3.)\n",
    "    print \"Theoretical lattice constant: {:1.4f} A\".format(lattice_const)\n",
    "\n",
    "    # generate Murnaghan model with fitted parameters\n",
    "    m_volume = np.linspace(volume.min(), volume.max(), 1000) \n",
    "    m_energy = eos_murnaghan(m_volume, *best_par) \n",
    "    \n",
    "    # plot data and model together\n",
    "    lines = plt.plot(volume, energy, 'ok', m_volume, m_energy, '--r' )\n",
    "    plt.xlabel(r\"Volume [$\\rm{A}^3$]\")\n",
    "    plt.ylabel(r\"Energy [$\\rm{eV}$]\")\n",
    "\n",
    "    #return  best_par, lines"
   ]
  },
  {
   "cell_type": "code",
   "execution_count": null,
   "metadata": {},
   "outputs": [],
   "source": [
    "%matplotlib inline\n",
    "fit_and_plot(eos_data)"
   ]
  }
 ],
 "metadata": {
  "kernelspec": {
   "display_name": "Python 2",
   "language": "python",
   "name": "python2"
  },
  "language_info": {
   "codemirror_mode": {
    "name": "ipython",
    "version": 2
   },
   "file_extension": ".py",
   "mimetype": "text/x-python",
   "name": "python",
   "nbconvert_exporter": "python",
   "pygments_lexer": "ipython2",
   "version": "2.7.12+"
  }
 },
 "nbformat": 4,
 "nbformat_minor": 2
}
