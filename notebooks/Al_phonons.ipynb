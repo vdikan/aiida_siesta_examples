{
 "cells": [
  {
   "cell_type": "markdown",
   "metadata": {},
   "source": [
    "#### Base imports\n",
    "\n",
    "`%aiida` magic spawns AiiDA's environment and imports some classes like `Code` and `DataFactory`.\n",
    "\n",
    "I also use `ipywidgets` module in notebooks to select interactively some inputs. Handy to e.g. make queries and check if you have some pseudo in any family etc."
   ]
  },
  {
   "cell_type": "code",
   "execution_count": 1,
   "metadata": {},
   "outputs": [
    {
     "data": {
      "application/json": {
       "current_state": "Loaded AiiDA DB environment."
      },
      "text/html": [
       "<p>Loaded AiiDA DB environment.</p>"
      ],
      "text/latex": [
       "Loaded AiiDA DB environment.\n"
      ],
      "text/plain": [
       "Loaded AiiDA DB environment.\n"
      ]
     },
     "execution_count": 1,
     "metadata": {},
     "output_type": "execute_result"
    }
   ],
   "source": [
    "%aiida"
   ]
  },
  {
   "cell_type": "code",
   "execution_count": 2,
   "metadata": {},
   "outputs": [],
   "source": [
    "%matplotlib inline"
   ]
  },
  {
   "cell_type": "code",
   "execution_count": 3,
   "metadata": {},
   "outputs": [],
   "source": [
    "import os\n",
    "import numpy as np\n",
    "import matplotlib.pyplot as plt\n",
    "\n",
    "from ipywidgets import interact"
   ]
  },
  {
   "cell_type": "code",
   "execution_count": 4,
   "metadata": {},
   "outputs": [
    {
     "data": {
      "application/vnd.jupyter.widget-view+json": {
       "model_id": "7e034baa6bc64845a23df9eef879f8ce",
       "version_major": 2,
       "version_minor": 0
      },
      "text/plain": [
       "aW50ZXJhY3RpdmUoY2hpbGRyZW49KERyb3Bkb3duKGRlc2NyaXB0aW9uPXUnY29kZW5hbWUnLCBvcHRpb25zPSh1J3NpZXN0YScsIHUnc2llc3RhbXBpJyksIHZhbHVlPXUnc2llc3RhJyksIE/igKY=\n"
      ]
     },
     "metadata": {},
     "output_type": "display_data"
    }
   ],
   "source": [
    "code = None\n",
    "def select_code(codename):\n",
    "    global code\n",
    "    code = Code.get_from_string(codename)\n",
    "\n",
    "code_choice = interact(select_code, \n",
    "                       codename=Code.list_for_plugin('siesta.siesta'))"
   ]
  },
  {
   "cell_type": "code",
   "execution_count": 5,
   "metadata": {},
   "outputs": [
    {
     "data": {
      "application/vnd.jupyter.widget-view+json": {
       "model_id": "2eaa65c4d34a4a11b607e950344fd684",
       "version_major": 2,
       "version_minor": 0
      },
      "text/plain": [
       "aW50ZXJhY3RpdmUoY2hpbGRyZW49KERyb3Bkb3duKGRlc2NyaXB0aW9uPXUnY29kZW5hbWUnLCBvcHRpb25zPSh1J3ZpYnJhJywpLCB2YWx1ZT11J3ZpYnJhJyksIE91dHB1dCgpKSwgX2RvbV/igKY=\n"
      ]
     },
     "metadata": {},
     "output_type": "display_data"
    }
   ],
   "source": [
    "vibra_code = None\n",
    "def select_vibra_code(codename):\n",
    "    global vibra_code\n",
    "    vibra_code = Code.get_from_string(codename)\n",
    "\n",
    "vibra_code_choice = interact(select_vibra_code, \n",
    "                             codename=Code.list_for_plugin('siesta.vibra'))"
   ]
  },
  {
   "cell_type": "code",
   "execution_count": 6,
   "metadata": {},
   "outputs": [],
   "source": [
    "from aiida.orm.data.base import Int, Float, Str\n",
    "\n",
    "PsfData = DataFactory('siesta.psf')\n",
    "StructureData = DataFactory('structure')\n",
    "ParameterData = DataFactory('parameter')\n",
    "KpointsData = DataFactory('array.kpoints')\n",
    "ArrayData = DataFactory('array')"
   ]
  },
  {
   "cell_type": "markdown",
   "metadata": {},
   "source": [
    "#### Pseudopotentials\n",
    "\n",
    "In other notebooks I search and select the family via widget.\n",
    "\n",
    "But at the moment we have the `lda-ag` pseudo-family hardwired in a number of places, including the \"protocols\" of the workflow for vibra (which is not really good). \n",
    "\n",
    "Thus, selection of pseusos is done by protocol. I leave the code for selectors in the markdown cells for reference:"
   ]
  },
  {
   "cell_type": "code",
   "execution_count": 7,
   "metadata": {},
   "outputs": [],
   "source": [
    "filter_elements=(\"Al\")"
   ]
  },
  {
   "cell_type": "code",
   "execution_count": 8,
   "metadata": {},
   "outputs": [
    {
     "data": {
      "application/vnd.jupyter.widget-view+json": {
       "model_id": "ac16da2bda594863b5e8fab7086bac39",
       "version_major": 2,
       "version_minor": 0
      },
      "text/plain": [
       "aW50ZXJhY3RpdmUoY2hpbGRyZW49KERyb3Bkb3duKGRlc2NyaXB0aW9uPXUnZmFtaWx5Jywgb3B0aW9ucz0oPEdyb3VwOiAibGRhLWFnIiBbdHlwZSBkYXRhLnBzZi5mYW1pbHldLCBvZiB1c2XigKY=\n"
      ]
     },
     "metadata": {},
     "output_type": "display_data"
    }
   ],
   "source": [
    "pseudo_family = None\n",
    "def select_pseudo_family(family):\n",
    "    global pseudo_family\n",
    "    pseudo_family = family\n",
    "    \n",
    "pseudo_family_choice = interact(select_pseudo_family,\n",
    "                                family=PsfData.get_psf_groups(filter_elements=filter_elements))\n"
   ]
  },
  {
   "cell_type": "markdown",
   "metadata": {},
   "source": [
    "#### Vibra's workflow inputs:"
   ]
  },
  {
   "cell_type": "code",
   "execution_count": 9,
   "metadata": {},
   "outputs": [],
   "source": [
    "# Protocol selection\n",
    "protocol = Str(\"standard\")\n",
    "#protocol = Str(\"fast\")"
   ]
  },
  {
   "cell_type": "code",
   "execution_count": 10,
   "metadata": {},
   "outputs": [],
   "source": [
    "# Supercell definition\n",
    "# \n",
    "# Mind the name `sca` for the sc-dimensions array. That is hardwired too.\n",
    "scarray=ArrayData()\n",
    "scarray.set_array('sca',np.array([1, 1, 1]))"
   ]
  },
  {
   "cell_type": "markdown",
   "metadata": {},
   "source": [
    "##### Structure creators"
   ]
  },
  {
   "cell_type": "code",
   "execution_count": 11,
   "metadata": {},
   "outputs": [],
   "source": [
    "def create_FCC_structure(alat):\n",
    "    lvecs = np.array([ 1.0,\n",
    "                       1.0,\n",
    "                       1.0,]) * alat\n",
    "                   \n",
    "    cell = np.array([[0.0, 0.5, 0.5,],\n",
    "                     [0.5, 0.0, 0.5,],\n",
    "                     [0.5, 0.5, 0.0,],])\n",
    "\n",
    "    return np.multiply(cell, lvecs)"
   ]
  },
  {
   "cell_type": "code",
   "execution_count": 12,
   "metadata": {},
   "outputs": [],
   "source": [
    "# Define Al structure\n",
    "alat = 4.217  # alat for Al, Angstroms\n",
    "cell = create_FCC_structure(alat)     # Creating FCC-cell\n",
    "structure = StructureData(cell=cell)  # Creating structure from cell \n",
    "# Placing basis atoms\n",
    "structure.append_atom(\n",
    "    position=(0.000 * alat, 0.000 * alat, 0.000 * alat),\n",
    "    symbols=['Al'])"
   ]
  },
  {
   "cell_type": "code",
   "execution_count": 13,
   "metadata": {},
   "outputs": [
    {
     "data": {
      "text/plain": [
       "{'augmented_path': False,\n",
       " 'bravais_lattice': 'cF',\n",
       " 'bravais_lattice_extended': 'cF2',\n",
       " 'has_inversion_symmetry': True,\n",
       " 'inverse_primitive_transformation_matrix': [[-1, 1, 1],\n",
       "  [1, -1, 1],\n",
       "  [1, 1, -1]],\n",
       " 'path': [['GAMMA', 'X'],\n",
       "  ['X', 'U'],\n",
       "  ['K', 'GAMMA'],\n",
       "  ['GAMMA', 'L'],\n",
       "  ['L', 'W'],\n",
       "  ['W', 'X']],\n",
       " 'point_coords': {'GAMMA': [0.0, 0.0, 0.0],\n",
       "  'K': [0.375, 0.375, 0.75],\n",
       "  'L': [0.5, 0.5, 0.5],\n",
       "  'U': [0.625, 0.25, 0.625],\n",
       "  'W': [0.5, 0.25, 0.75],\n",
       "  'W_2': [0.75, 0.25, 0.5],\n",
       "  'X': [0.5, 0.0, 0.5]},\n",
       " 'primitive_transformation_matrix': [[0.0, 0.5, 0.5],\n",
       "  [0.5, 0.0, 0.5],\n",
       "  [0.5, 0.5, 0.0]],\n",
       " 'reciprocal_primitive_lattice': [[-1.4899656882095298,\n",
       "   1.4899656882095298,\n",
       "   1.4899656882095298],\n",
       "  [1.4899656882095298, -1.4899656882095298, 1.4899656882095298],\n",
       "  [1.4899656882095298, 1.4899656882095298, -1.4899656882095298]],\n",
       " 'spacegroup_international': u'Fm-3m',\n",
       " 'spacegroup_number': 225L,\n",
       " 'volume_original_wrt_conv': 0.25,\n",
       " 'volume_original_wrt_prim': 1.0}"
      ]
     },
     "execution_count": 13,
     "metadata": {},
     "output_type": "execute_result"
    }
   ],
   "source": [
    "#check the structure/paths\n",
    "from aiida.tools import get_kpoints_path\n",
    "\n",
    "get_kpoints_path(structure)['parameters'].get_dict()\n",
    "#get_kpoints_path(structure)['parameters'].get_dict()['path']"
   ]
  },
  {
   "cell_type": "code",
   "execution_count": 15,
   "metadata": {},
   "outputs": [],
   "source": [
    "kpoints = KpointsData()\n",
    "kpoints.set_kpoints_mesh([10, 10, 10])"
   ]
  },
  {
   "cell_type": "code",
   "execution_count": 14,
   "metadata": {},
   "outputs": [],
   "source": [
    "bandskpoints = KpointsData()\n",
    "bandskpoints.set_cell(structure.cell, structure.pbc)\n",
    "bandskpoints.set_kpoints_path([\n",
    "    ('G', 'X', 20),\n",
    "    ('X', 'U', 20),\n",
    "    ('K', 'G', 20),\n",
    "    ('G', 'L', 20),\n",
    "    ('L', 'W', 20),\n",
    "    ('W', 'X', 20),\n",
    "])"
   ]
  },
  {
   "cell_type": "markdown",
   "metadata": {},
   "source": [
    "#### Workflow stages parameters\n",
    "\n",
    "The atomic displacement for force constants calculations is taken from `global_parameters`. Somewhere (perhaps there) system- and mpi-options \n",
    "should be also defined.\n",
    "\n",
    "`siesta_parameters` and `vibra_parameters` update corresponding defaults \n",
    "from protocols etc."
   ]
  },
  {
   "cell_type": "code",
   "execution_count": 16,
   "metadata": {},
   "outputs": [],
   "source": [
    "options =  ParameterData(dict={\n",
    "    'resources': {\n",
    "            #'parallel_env': 'mpi',\n",
    "    'tot_num_mpiprocs':2\n",
    "    },\n",
    "    'max_wallclock_seconds': 7200,\n",
    "})"
   ]
  },
  {
   "cell_type": "code",
   "execution_count": 17,
   "metadata": {},
   "outputs": [],
   "source": [
    "global_parameters =  ParameterData(dict={\n",
    "    'atomicdispl': '0.04 Bohr'  \n",
    "})\n",
    "\n",
    "siesta_parameters =  ParameterData(dict={\n",
    "    #'dm_convergence_threshold': 1.0e-5,\n",
    "    'xc-functional': 'LDA',\n",
    "    'xc-authors': 'CA',\n",
    "    'spin-polarized': False,\n",
    "    'min-meshcutoff': 125,  #in Ry\n",
    "    'meshcutoff': '125 Ry',\n",
    "    'kpoints_mesh': 5,\n",
    "})\n",
    "\n",
    "vibra_parameters = ParameterData(dict={\n",
    "    'eigenvectors': False\n",
    "    #'eigenvectors': True\n",
    "})"
   ]
  },
  {
   "cell_type": "code",
   "execution_count": 18,
   "metadata": {
    "scrolled": true
   },
   "outputs": [
    {
     "name": "stdout",
     "output_type": "stream",
     "text": [
      "Shutting down AiiDA Daemon (20622)...\n",
      "Waiting for the AiiDA Daemon to shut down...\n",
      "AiiDA Daemon shut down correctly.\n",
      "Clearing all locks ...\n",
      "Starting AiiDA Daemon (log file: /home/dix/.aiida/daemon/log/celery.log)...\n",
      "Daemon started\n"
     ]
    }
   ],
   "source": [
    "!verdi daemon restart"
   ]
  },
  {
   "cell_type": "code",
   "execution_count": 19,
   "metadata": {},
   "outputs": [],
   "source": [
    "# Create and run SiestaVibraWorkChain instance\n",
    "from aiida.work.run import run\n",
    "from aiida_siesta.workflows.vibrawf import SiestaVibraWorkChain\n",
    "\n",
    "\n",
    "result = run(SiestaVibraWorkChain,\n",
    "             code=code,\n",
    "             vibra_code=vibra_code,\n",
    "             scarray=scarray,\n",
    "             structure=structure,\n",
    "             protocol=protocol,\n",
    "             kpoints=kpoints,\n",
    "             bandskpoints=bandskpoints,\n",
    "             options=options,\n",
    "             global_parameters=global_parameters,\n",
    "             siesta_parameters=siesta_parameters,\n",
    "             vibra_parameters=vibra_parameters,)"
   ]
  },
  {
   "cell_type": "code",
   "execution_count": 20,
   "metadata": {},
   "outputs": [],
   "source": [
    "bands = result['vibra_phonon_dispersion']\n",
    "bparams = result['vibra_band_parameters'].get_dict()"
   ]
  },
  {
   "cell_type": "code",
   "execution_count": 21,
   "metadata": {},
   "outputs": [
    {
     "name": "stdout",
     "output_type": "stream",
     "text": [
      "vibra_phonon_dispersion -> 1785\n",
      "vibra_band_parameters -> 1786\n",
      "vibra_output_log -> 1784\n"
     ]
    }
   ],
   "source": [
    "# resulting nodes\n",
    "for k in result.keys():\n",
    "    print k, \"->\", result[k].pk"
   ]
  },
  {
   "cell_type": "code",
   "execution_count": 25,
   "metadata": {},
   "outputs": [
    {
     "data": {
      "text/plain": [
       "[(0, u'G'),\n",
       " (19, u'X'),\n",
       " (38, u'U'),\n",
       " (39, u'K'),\n",
       " (58, u'G'),\n",
       " (77, u'L'),\n",
       " (96, u'W'),\n",
       " (115, u'X')]"
      ]
     },
     "execution_count": 25,
     "metadata": {},
     "output_type": "execute_result"
    }
   ],
   "source": [
    "bandskpoints.labels"
   ]
  },
  {
   "cell_type": "code",
   "execution_count": 38,
   "metadata": {},
   "outputs": [
    {
     "data": {
      "image/png": "[encoded data removed]",
      "text/plain": [
       "<Figure size 1080x648 with 1 Axes>"
      ]
     },
     "metadata": {
      "needs_background": "light"
     },
     "output_type": "display_data"
    }
   ],
   "source": [
    "plt.rcParams['figure.figsize'] = (15.0, 9.0)\n",
    "\n",
    "# Plot bands\n",
    "for band in zip(*bands.get_bands()):\n",
    "    plt.plot(bparams['kp_coordinates'], band,)\n",
    "\n",
    "ticks = [(bparams['kp_coordinates'][xt], xl) \n",
    "         for xt, xl in bandskpoints.labels]\n",
    "plt.xticks(zip(*ticks)[0], zip(*ticks)[1])\n",
    "\n",
    "#vertical lines\n",
    "plt.axvline(x=bparams['kp_coordinates'][38], color='k', linestyle='-')\n",
    "plt.axvline(x=bparams['kp_coordinates'][39], color='k', linestyle='-')\n",
    "\n",
    "plt.axvline(x=bparams['kp_coordinates'][19], color='k', linestyle=':')\n",
    "plt.axvline(x=bparams['kp_coordinates'][77], color='k', linestyle=':')\n",
    "plt.axvline(x=bparams['kp_coordinates'][96], color='k', linestyle=':')\n",
    "plt.axvline(x=bparams['kp_coordinates'][115], color='k', linestyle=':')\n",
    "\n",
    "#plt.axis([0.0, 3.34, -30.0, 25.0])  # rescale\n",
    "plt.ylabel(\"Dispersion (eV)\")\n",
    "plt.legend()\n",
    "\n",
    "plt.show()"
   ]
  },
  {
   "cell_type": "code",
   "execution_count": null,
   "metadata": {},
   "outputs": [],
   "source": []
  }
 ],
 "metadata": {
  "kernelspec": {
   "display_name": "Python 2",
   "language": "python",
   "name": "python2"
  },
  "language_info": {
   "codemirror_mode": {
    "name": "ipython",
    "version": 2
   },
   "file_extension": ".py",
   "mimetype": "text/x-python",
   "name": "python",
   "nbconvert_exporter": "python",
   "pygments_lexer": "ipython2",
   "version": "2.7.15rc1"
  }
 },
 "nbformat": 4,
 "nbformat_minor": 2
}
