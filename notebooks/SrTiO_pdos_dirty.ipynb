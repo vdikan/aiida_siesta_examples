{
 "cells": [
  {
   "cell_type": "code",
   "execution_count": 440,
   "metadata": {
    "autoscroll": "json-false",
    "ein.tags": [
     "worksheet-0"
    ],
    "slideshow": {
     "slide_type": "-"
    }
   },
   "outputs": [
    {
     "data": {
      "application/json": {
       "current_state": "Note! AiiDA DB environment already loaded! I do not reload it again."
      },
      "text/html": [
       "<p><strong>Note! AiiDA DB environment already loaded! I do not reload it again.</strong></p>"
      ],
      "text/latex": [
       "\\emph{Note! AiiDA DB environment already loaded! I do not reload it again.}\n"
      ],
      "text/plain": [
       "** Note! AiiDA DB environment already loaded! I do not reload it again.\n"
      ]
     },
     "execution_count": 440,
     "metadata": {},
     "output_type": "execute_result"
    }
   ],
   "source": [
    "%aiida"
   ]
  },
  {
   "cell_type": "code",
   "execution_count": 441,
   "metadata": {
    "autoscroll": "json-false",
    "ein.tags": [
     "worksheet-0"
    ],
    "slideshow": {
     "slide_type": "-"
    }
   },
   "outputs": [],
   "source": [
    "import os\n",
    "import numpy as np\n",
    "\n",
    "from ipywidgets import interact"
   ]
  },
  {
   "cell_type": "code",
   "execution_count": 442,
   "metadata": {
    "autoscroll": "json-false",
    "ein.tags": [
     "worksheet-0"
    ],
    "slideshow": {
     "slide_type": "-"
    }
   },
   "outputs": [],
   "source": [
    "from aiida.orm import Code, DataFactory, CalculationFactory\n",
    "from aiida.orm.data.base import Float, Str\n",
    "\n",
    "SiestaCalculation = CalculationFactory('siesta.siesta')\n",
    "PsfData = DataFactory('siesta.psf')\n",
    "StructureData = DataFactory('structure')\n",
    "ParameterData = DataFactory('parameter')\n",
    "KpointsData = DataFactory('array.kpoints')"
   ]
  },
  {
   "cell_type": "code",
   "execution_count": 443,
   "metadata": {
    "autoscroll": "json-false",
    "ein.tags": [
     "worksheet-0"
    ],
    "slideshow": {
     "slide_type": "-"
    }
   },
   "outputs": [
    {
     "data": {
      "application/vnd.jupyter.widget-view+json": {
       "model_id": "d7bedf142ff545a6a1b5ab08b456929c",
       "version_major": 2,
       "version_minor": 0
      },
      "text/html": [
       "<p>Failed to display Jupyter Widget of type <code>interactive</code>.</p>\n",
       "<p>\n",
       "  If you're reading this message in Jupyter Notebook or JupyterLab, it may mean\n",
       "  that the widgets JavaScript is still loading. If this message persists, it\n",
       "  likely means that the widgets JavaScript library is either not installed or\n",
       "  not enabled. See the <a href=\"https://ipywidgets.readthedocs.io/en/stable/user_install.html\">Jupyter\n",
       "  Widgets Documentation</a> for setup instructions.\n",
       "</p>\n",
       "<p>\n",
       "  If you're reading this message in another notebook frontend (for example, a static\n",
       "  rendering on GitHub or <a href=\"https://nbviewer.jupyter.org/\">NBViewer</a>),\n",
       "  it may mean that your frontend doesn't currently support widgets.\n",
       "</p>\n"
      ],
      "text/plain": [
       "interactive(children=(Dropdown(description=u'codename', options=(u'siesta-m',), value=u'siesta-m'), Output()), _dom_classes=('widget-interact',))"
      ]
     },
     "metadata": {},
     "output_type": "display_data"
    }
   ],
   "source": [
    "code = None\n",
    "def select_code(codename):\n",
    "    global code\n",
    "    code = Code.get_from_string(codename)\n",
    "\n",
    "code_choice = interact(select_code, \n",
    "                       codename=Code.list_for_plugin('siesta.siesta'))"
   ]
  },
  {
   "cell_type": "code",
   "execution_count": 444,
   "metadata": {
    "autoscroll": "json-false",
    "ein.tags": [
     "worksheet-0"
    ],
    "slideshow": {
     "slide_type": "-"
    }
   },
   "outputs": [],
   "source": [
    "filter_elements=(\"Sr\", \"Ti\", \"O\")"
   ]
  },
  {
   "cell_type": "code",
   "execution_count": 445,
   "metadata": {
    "autoscroll": "json-false",
    "ein.tags": [
     "worksheet-0"
    ],
    "slideshow": {
     "slide_type": "-"
    }
   },
   "outputs": [
    {
     "data": {
      "application/vnd.jupyter.widget-view+json": {
       "model_id": "321e49f68d5f41fe82ce8228ba6df32c",
       "version_major": 2,
       "version_minor": 0
      },
      "text/html": [
       "<p>Failed to display Jupyter Widget of type <code>interactive</code>.</p>\n",
       "<p>\n",
       "  If you're reading this message in Jupyter Notebook or JupyterLab, it may mean\n",
       "  that the widgets JavaScript is still loading. If this message persists, it\n",
       "  likely means that the widgets JavaScript library is either not installed or\n",
       "  not enabled. See the <a href=\"https://ipywidgets.readthedocs.io/en/stable/user_install.html\">Jupyter\n",
       "  Widgets Documentation</a> for setup instructions.\n",
       "</p>\n",
       "<p>\n",
       "  If you're reading this message in another notebook frontend (for example, a static\n",
       "  rendering on GitHub or <a href=\"https://nbviewer.jupyter.org/\">NBViewer</a>),\n",
       "  it may mean that your frontend doesn't currently support widgets.\n",
       "</p>\n"
      ],
      "text/plain": [
       "interactive(children=(Dropdown(description=u'family', options=(<Group: \"another_family\" [type data.psf.family], of user vladimir.dikan@icn2.cat>, <Group: \"example_family\" [type data.psf.family], of user vladimir.dikan@icn2.cat>), value=<Group: \"another_family\" [type data.psf.family], of user vladimir.dikan@icn2.cat>), Output()), _dom_classes=('widget-interact',))"
      ]
     },
     "metadata": {},
     "output_type": "display_data"
    }
   ],
   "source": [
    "pseudo_family = None\n",
    "def select_pseudo_family(family):\n",
    "    global pseudo_family\n",
    "    pseudo_family = family\n",
    "    \n",
    "pseudo_family_choice = interact(select_pseudo_family,\n",
    "                                family=PsfData.get_psf_groups(filter_elements=filter_elements))"
   ]
  },
  {
   "cell_type": "code",
   "execution_count": 446,
   "metadata": {
    "autoscroll": "json-false",
    "ein.tags": [
     "worksheet-0"
    ],
    "slideshow": {
     "slide_type": "-"
    }
   },
   "outputs": [],
   "source": [
    "inputs = SiestaCalculation.process().get_inputs_template()\n",
    "inputs.code = code\n",
    "inputs._options.resources = {\n",
    "    \"num_machines\": 1,\n",
    "    \"num_mpiprocs_per_machine\": 1,\n",
    "}\n",
    "inputs._options.max_wallclock_seconds = 30 * 60"
   ]
  },
  {
   "cell_type": "code",
   "execution_count": 447,
   "metadata": {
    "autoscroll": "json-false",
    "ein.tags": [
     "worksheet-0"
    ],
    "slideshow": {
     "slide_type": "-"
    }
   },
   "outputs": [],
   "source": [
    "alat = 3.874\n",
    "\n",
    "lvecs = np.array([ 1.0,\n",
    "                   1.0,\n",
    "                   1.0,]) * alat\n",
    "\n",
    "cell = np.array([[1.0, 0.0, 0.0,],\n",
    "                 [0.0, 1.0, 0.0,],\n",
    "                 [0.0, 0.0, 1.0,],])\n",
    "\n",
    "cell = np.multiply(cell, lvecs)"
   ]
  },
  {
   "cell_type": "code",
   "execution_count": 448,
   "metadata": {
    "autoscroll": "json-false",
    "ein.tags": [
     "worksheet-0"
    ],
    "slideshow": {
     "slide_type": "-"
    }
   },
   "outputs": [],
   "source": [
    "structure = StructureData(cell=cell)  # Creating structure from cell \n",
    "# Placing basis atoms\n",
    "structure.append_atom(position=(0.0 * alat, 0.0 * alat, 0.0 * alat),\n",
    "                      symbols=['Sr'])\n",
    "structure.append_atom(position=(0.5 * alat, 0.5 * alat, 0.5 * alat),\n",
    "                      symbols=['Ti'])\n",
    "structure.append_atom(position=(0.5 * alat, 0.5 * alat, 0.0 * alat),\n",
    "                      symbols=['O'])\n",
    "structure.append_atom(position=(0.5 * alat, 0.0 * alat, 0.5 * alat),\n",
    "                      symbols=['O'])\n",
    "structure.append_atom(position=(0.0 * alat, 0.5 * alat, 0.5 * alat),\n",
    "                      symbols=['O'])\n",
    "\n",
    "inputs.structure = structure"
   ]
  },
  {
   "cell_type": "code",
   "execution_count": 449,
   "metadata": {
    "autoscroll": "json-false",
    "ein.tags": [
     "worksheet-0"
    ],
    "slideshow": {
     "slide_type": "-"
    }
   },
   "outputs": [],
   "source": [
    "# Pseudopotentials\n",
    "from aiida_siesta.data.psf import get_pseudos_from_structure\n",
    "\n",
    "inputs.pseudo = get_pseudos_from_structure(structure, pseudo_family.name)"
   ]
  },
  {
   "cell_type": "code",
   "execution_count": 450,
   "metadata": {
    "autoscroll": "json-false",
    "ein.tags": [
     "worksheet-0"
    ],
    "slideshow": {
     "slide_type": "-"
    }
   },
   "outputs": [],
   "source": [
    "# K-points mesh\n",
    "kpoints_mesh = KpointsData()\n",
    "kpoints_mesh.set_kpoints_mesh([6, 6, 6], [0.5, 0.5, 0.5])\n",
    "\n",
    "inputs.kpoints = kpoints_mesh"
   ]
  },
  {
   "cell_type": "code",
   "execution_count": 451,
   "metadata": {
    "autoscroll": "json-false",
    "ein.tags": [
     "worksheet-0"
    ],
    "slideshow": {
     "slide_type": "-"
    }
   },
   "outputs": [],
   "source": [
    "# Bands' k-points\n",
    "bandskpoints = KpointsData()\n",
    "bandskpoints.set_cell(structure.cell, structure.pbc)\n",
    "bandskpoints.set_kpoints_path([\n",
    "    ('G', 'X', 21),\n",
    "    ('X', 'M', 21),\n",
    "    ('M', 'G', 21),\n",
    "    ('G', 'R', 21),\n",
    "    ('R', 'X', 21),\n",
    "])\n",
    "\n",
    "inputs.bandskpoints = bandskpoints"
   ]
  },
  {
   "cell_type": "code",
   "execution_count": 452,
   "metadata": {
    "autoscroll": "json-false",
    "ein.tags": [
     "worksheet-0"
    ],
    "slideshow": {
     "slide_type": "-"
    }
   },
   "outputs": [],
   "source": [
    "block_ps_lmax_content = \"\"\"\n",
    "   Sr    3\n",
    "   Ti    3\n",
    "    O    3\n",
    "\"\"\"\n"
   ]
  },
  {
   "cell_type": "code",
   "execution_count": 453,
   "metadata": {
    "autoscroll": "json-false",
    "ein.tags": [
     "worksheet-0"
    ],
    "slideshow": {
     "slide_type": "-"
    }
   },
   "outputs": [],
   "source": [
    "block_pao_basis_content = \"\"\"\n",
    "Sr   5      1.64000\n",
    " n=4   0   1   E   155.00000     6.00000\n",
    "     6.49993\n",
    "     1.00000\n",
    " n=5   0   2   E   149.48000     6.50000\n",
    "     6.99958     5.49957\n",
    "     1.00000     1.00000\n",
    " n=4   1   1   E   148.98000     5.61000\n",
    "     6.74964\n",
    "     1.00000\n",
    " n=5   1   1   E     4.57000     1.20000\n",
    "     4.00000\n",
    "     1.00000\n",
    " n=4   2   1   E   146.26000     6.09000\n",
    "     6.63062\n",
    "     1.00000\n",
    "Ti    5      1.91\n",
    " n=3    0    1   E     93.95      5.20\n",
    "   5.69946662616249\n",
    "   1.00000000000000\n",
    " n=3    1    1   E     95.47      5.20\n",
    "   5.69941339465994\n",
    "   1.00000000000000\n",
    " n=4    0    2   E     96.47      5.60\n",
    "   6.09996398975307        5.09944363262274\n",
    "   1.00000000000000        1.00000000000000\n",
    " n=3    2    2   E     46.05      4.95\n",
    "   5.94327035784617        4.70009988294302\n",
    "   1.00000000000000        1.00000000000000\n",
    " n=4    1    1   E      0.50      1.77\n",
    "   3.05365979938936\n",
    "   1.00000000000000\n",
    "O     3     -0.28\n",
    " n=2    0    2   E     40.58      3.95\n",
    "   4.95272270428712        3.60331408800389\n",
    "   1.00000000000000        1.00000000000000\n",
    " n=2    1    2   E     36.78      4.35\n",
    "   4.99990228025066        3.89745395068600\n",
    "   1.00000000000000        1.00000000000000\n",
    " n=3    2    1   E     21.69      0.93\n",
    "   2.73276990670788\n",
    "   1.00000000000000\n",
    "\"\"\""
   ]
  },
  {
   "cell_type": "code",
   "execution_count": 454,
   "metadata": {
    "autoscroll": "json-false",
    "ein.tags": [
     "worksheet-0"
    ],
    "slideshow": {
     "slide_type": "-"
    }
   },
   "outputs": [],
   "source": [
    "block_pdos_content = \"\"\"\n",
    "  -70.00  5.00  0.150 3000  eV\n",
    "\"\"\"\n"
   ]
  },
  {
   "cell_type": "code",
   "execution_count": 455,
   "metadata": {
    "autoscroll": "json-false",
    "ein.tags": [
     "worksheet-0"
    ],
    "slideshow": {
     "slide_type": "-"
    }
   },
   "outputs": [],
   "source": [
    "block_pdos_kgrid_content = \"\"\"\n",
    "   60  0  0  0.5\n",
    "    0 60  0  0.5\n",
    "    0  0 60  0.5\n",
    "%end PDOS-kgrid_Monkhorst_Pack\n",
    "\"\"\""
   ]
  },
  {
   "cell_type": "code",
   "execution_count": 456,
   "metadata": {},
   "outputs": [],
   "source": [
    "# Hack: need non-empty `settings` to retreive pdos.xml \n",
    "settings = ParameterData(dict={'flagpdos': True})\n",
    "inputs.settings = settings"
   ]
  },
  {
   "cell_type": "code",
   "execution_count": 457,
   "metadata": {
    "autoscroll": "json-false",
    "ein.tags": [
     "worksheet-0"
    ],
    "slideshow": {
     "slide_type": "-"
    }
   },
   "outputs": [],
   "source": [
    "# Calculation parameters\n",
    "parameters  = ParameterData(dict={\n",
    "    'xc-functional': 'LDA',\n",
    "    'xc-authors': 'CA',\n",
    "    'spin-polarized': False,\n",
    "    'meshcutoff': '400 Ry',\n",
    "    'max-scfiterations': 300,\n",
    "    'dm-numberpulay': 3,\n",
    "    'dm-mixingweight': 0.2,\n",
    "    'dm-tolerance': 0.0001,\n",
    "    'electronictemperature': '0.075 eV',\n",
    "    'scf-mixafterconvergence': False,\n",
    "    'dm-usesavedm': False,\n",
    "    '%block ps-lmax': block_ps_lmax_content,\n",
    "    '%block pao-basis': block_pao_basis_content,\n",
    "    '%block projecteddensityofstates': block_pdos_content,\n",
    "    '%PDOS-kgrid-Monkhorst_Pack': block_pdos_kgrid_content,\n",
    "})\n",
    "\n",
    "inputs.parameters = parameters"
   ]
  },
  {
   "cell_type": "code",
   "execution_count": 458,
   "metadata": {
    "autoscroll": "json-false",
    "ein.tags": [
     "worksheet-0"
    ],
    "slideshow": {
     "slide_type": "-"
    }
   },
   "outputs": [
    {
     "name": "stdout",
     "output_type": "stream",
     "text": [
      "Shutting down AiiDA Daemon (19959)...\n",
      "Waiting for the AiiDA Daemon to shut down...\n",
      "AiiDA Daemon shut down correctly.\n",
      "Clearing all locks ...\n",
      "Starting AiiDA Daemon ...\n",
      "Daemon started\n"
     ]
    }
   ],
   "source": [
    "! verdi daemon restart"
   ]
  },
  {
   "cell_type": "code",
   "execution_count": 459,
   "metadata": {
    "autoscroll": "json-false",
    "ein.tags": [
     "worksheet-0"
    ],
    "slideshow": {
     "slide_type": "-"
    }
   },
   "outputs": [],
   "source": [
    "# Create and run Siesta calculation process\n",
    "from aiida.work.run import run\n",
    "\n",
    "JobCalc = SiestaCalculation.process()\n",
    "result = run(JobCalc, **inputs)"
   ]
  },
  {
   "cell_type": "code",
   "execution_count": 460,
   "metadata": {
    "autoscroll": "json-false",
    "ein.tags": [
     "worksheet-0"
    ],
    "slideshow": {
     "slide_type": "-"
    }
   },
   "outputs": [],
   "source": [
    "out     = result['output_parameters'].get_dict()\n",
    "bands   = result['bands_array']\n",
    "bparams = result['bands_parameters'].get_dict()\n",
    "\n",
    "pd = result['pdos_data'].get_array('data')\n",
    "pi = result['pdos_info'].get_dict()"
   ]
  },
  {
   "cell_type": "code",
   "execution_count": 505,
   "metadata": {},
   "outputs": [
    {
     "data": {
      "image/png": "[encoded data removed]",
      "text/plain": [
       "<matplotlib.figure.Figure at 0x7f200d52a690>"
      ]
     },
     "metadata": {},
     "output_type": "display_data"
    }
   ],
   "source": [
    "%matplotlib inline\n",
    "import matplotlib.pyplot as plt\n",
    "plt.rcParams['figure.figsize'] = (15.0, 9.0)\n",
    "f, (ax1, ax2) = plt.subplots(1, 2, sharey=True)\n",
    "\n",
    "# Plot bands\n",
    "for band in zip(*bands.get_bands()):\n",
    "    ax1.plot(bparams['kp_coordinates'], band,)\n",
    "\n",
    "# Plot E_Fermi\n",
    "ax1.plot((bparams['kp_coordinates'][0], bparams['kp_coordinates'][-1]),\n",
    "         (out['E_Fermi'], out['E_Fermi']),\n",
    "         '--r', label=\"Fermi Energy\")   \n",
    "\n",
    "ticks = [(bparams['kp_coordinates'][xt], xl) \n",
    "         for xt, xl in bandskpoints.labels]\n",
    "#ax1.set_xticks(zip(*ticks)[0], zip(*ticks)[1])\n",
    "ax1.set_xticks(zip(*ticks)[0])\n",
    "ax1.set_xticklabels(zip(*ticks)[1])\n",
    "ax1.axis([0.0, 2.85, -70.0, 5.0])  # rescale\n",
    "ax1.set_ylabel(\"Energy (eV)\")\n",
    "ax1.legend()\n",
    "\n",
    "for orbital in pd:\n",
    "    ax2.plot(orbital, pi['energy_values']['data'])\n",
    "\n",
    "ax2.invert_xaxis()"
   ]
  },
  {
   "cell_type": "code",
   "execution_count": null,
   "metadata": {},
   "outputs": [],
   "source": []
  }
 ],
 "metadata": {
  "kernelspec": {
   "display_name": "Python 2",
   "language": "python",
   "name": "python2"
  },
  "language_info": {
   "codemirror_mode": {
    "name": "ipython",
    "version": 2
   },
   "file_extension": ".py",
   "mimetype": "text/x-python",
   "name": "python",
   "nbconvert_exporter": "python",
   "pygments_lexer": "ipython2",
   "version": "2.7.12+"
  },
  "name": "04_SrTiO_pdos.ipynb"
 },
 "nbformat": 4,
 "nbformat_minor": 2
}
